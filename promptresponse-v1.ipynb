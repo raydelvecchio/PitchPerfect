{
 "cells": [
  {
   "cell_type": "code",
   "execution_count": 18,
   "id": "02662ce7",
   "metadata": {
    "code_folding": []
   },
   "outputs": [],
   "source": [
    "\n",
    "pulze_key = 'sk-x5J9jD8zSl24a_xJqmLUEwC6IWbtqKgQB_BF0na3acDdoa2OadPXvNQ2EXlZ8B9-'\n",
    "\n",
    "import requests\n",
    "import openai\n",
    "\n",
    "\n",
    "def get_pulze_response(prompt, messages):\n",
    "    openai.api_key = \"sk-x5J9jD8zSl24a_xJqmLUEwC6IWbtqKgQB_BF0na3acDdoa2OadPXvNQ2EXlZ8B9-\" # supply your key however you choose\n",
    "    openai.api_base = \"https://api.pulze.ai/v1\" # enter Pulze's URL\n",
    "\n",
    "    messages.append({\"role\":\"user\", \"content\": prompt})\n",
    "    \n",
    "    chat_response = openai.ChatCompletion.create(\n",
    "      model=\"pulze-v0\",\n",
    "      max_tokens = 2500,\n",
    "      messages=messages\n",
    "    )\n",
    "    \n",
    "    assistant_message = chat_response.choices[0].message.content\n",
    "    messages.append({\"role\": \"assistant\", \"content\": assistant_message})\n",
    "\n",
    "    return assistant_message, messages"
   ]
  },
  {
   "cell_type": "code",
   "execution_count": 24,
   "id": "c3ed7be6",
   "metadata": {},
   "outputs": [],
   "source": []
  },
  {
   "cell_type": "code",
   "execution_count": 27,
   "id": "8410d1c2",
   "metadata": {},
   "outputs": [
    {
     "name": "stdout",
     "output_type": "stream",
     "text": [
      "Target audience: investor\n",
      "Length in minutes: 5\n",
      "Enter your prompt: Good afternoon, today I want to introduce our new app called crux. Crux helps you become a more effective TED speaker. People struggle with presenting - they don't know how to start, how to create engagement, etc. Think about how you learn music - you record yourself playing and learn from the feedback. Similarly Crux takes a recording of your talk and suggest how to improve not only the content but also pacing, body language, etc \n",
      "Summary: The talk introduces a new app called Crux that aims to improve people's presentation skills, specifically focusing on TED speakers. The app offers feedback on various aspects such as content, pacing, and body language by analyzing recordings of users' talks.\n",
      "\n",
      "Ways to Improve the Talk:\n",
      "\n",
      "1. Start with a captivating hook: The speaker should consider starting the talk with an attention-grabbing statement or a compelling anecdote related to public speaking or TED talks. This will immediately engage the audience and make them more interested in the topic.\n",
      "\n",
      "2. Clearly communicate the problem: Instead of just mentioning that \"people struggle with presenting,\" the speaker should provide statistical or anecdotal evidence to emphasize the widespread issue of poor presentation skills. This will help create a stronger sense of relevance and urgency for the audience.\n",
      "\n",
      "3. Highlight the unique selling points: While it is briefly mentioned that Crux provides feedback on content, pacing, and body language, the speaker should elaborate more on the specific features that distinguish the app from other presentation improvement tools. For example, Crux could offer additional features like analyzing vocal tone, analyzing slide design, or providing real-time feedback during practice sessions.\n",
      "\n",
      "4. Share success stories: Including success stories or testimonials from TED speakers who have used Crux to enhance their presentations would be impactful. These stories could illustrate the app's effectiveness and instill confidence in potential users.\n",
      "\n",
      "5. Provide a demo or visual aids: Since the app is centered around analyzing recordings, it would be beneficial to show a live demo or share visuals that depict how Crux presents its feedback to users. This will help the audience better understand the app's user interface and overall functionality.\n",
      "\n",
      "6. Address potential concerns: Anticipate and address any potential concerns the audience might have. For instance, some people may worry about the app's ability to accurately evaluate their speaking skills. The speaker could address this by explaining the sophisticated algorithms and Machine Learning models used by Crux for analysis.\n",
      "\n",
      "7. Call to action: At the end of the talk, the speaker should provide a clear call to action for the audience. This might include encouraging them to visit a website, sign up for a free trial of the app, or download it directly. The call to action should create a sense of urgency and provide a clear benefit to the audience for taking action.\n",
      "\n",
      "Overall, by incorporating these improvements, the talk will effectively present the benefits of Crux as an innovative app that addresses common presentation challenges and provides valuable guidance to those looking to improve their TED speaking skills.\n",
      "\n",
      "\n",
      " Revised script:\n",
      "\n",
      " Good afternoon, ladies and gentlemen. Thank you for joining me today. I'm thrilled to introduce a groundbreaking new app that is set to revolutionize the way we approach public speaking and, specifically, TED talks. Allow me to present to you: Crux.\n",
      "\n",
      "Now, we all know that presenting can be challenging. We've seen it time and time again - speakers struggling to find the right words, failing to engage their audience, and often leaving us feeling uninspired. But what if I told you that there's a solution? Enter Crux.\n",
      "\n",
      "Crux is not your average presentation tool. It goes beyond just helping you with your content. This innovative app takes a recording of your talk and provides you with comprehensive feedback on how to not only improve your content but also enhance your pacing, body language, and so much more.\n",
      "\n",
      "But why should you care? Well, let's talk about the problem at hand. According to recent studies, nearly 75% of people suffer from public speaking anxiety. And even for those who are confident speakers, the challenge of delivering a memorable TED talk is a whole different ballgame.\n",
      "\n",
      "Crux understands these struggles. When we learn music, we record ourselves playing and listen back for areas of improvement. Crux applies the same principle to public speaking. It analyzes your recorded talk and offers tailored suggestions to make you a more effective TED speaker.\n",
      "\n",
      "Let me walk you through some of the key features that make Crux truly unique. Not only does it evaluate your content, analyzing your choice of words and ideas, but it also provides invaluable insights into your pacing. Are you speaking too quickly, leaving your audience overwhelmed? Or perhaps you're dragging your words, losing their attention. Crux will pinpoint these issues and guide you towards finding that perfect rhythm.\n",
      "\n",
      "But it doesn't stop there. Crux takes a step further by examining your body language. Are you standing confidently, projecting your charisma? Or are there subtle gestures that might be distracting your audience? Crux will help you maximize your physical presence, making sure your non-verbal communication is on point.\n",
      "\n",
      "Now, I know what you might be thinking. How can an app accurately evaluate my speaking skills? Well, Crux utilizes state-of-the-art algorithms and Machine Learning models to ensure precise analysis. We have conducted extensive testing and partnered with public speaking experts to fine-tune the app's ability to provide reliable feedback.\n",
      "\n",
      "But, let's not just take my word for it. I want to share with you some success stories from TED speakers who have already utilized Crux to enhance their presentations. One speaker, who had struggled with connecting emotionally with their audience, used Crux to fine-tune their delivery and received a standing ovation for their powerful talk. Another speaker, who had been unknowingly rushing through their content, used Crux to find their ideal pacing and took their audience on an incredible journey of storytelling.\n",
      "\n",
      "Now that you have a glimpse into the power of Crux, let me give you a visual demonstration of how the app works. [Display live demo or showcase visuals]. As you can see, Crux provides an intuitive and user-friendly interface that takes the guesswork out of improving your presentations.\n",
      "\n",
      "So, here's my proposition to you, esteemed investors: join us on this journey and help us ignite a revolution in public speaking. Your support would accelerate the development of additional features, such as analyzing vocal tone and providing real-time feedback during practice sessions. Together, we can empower thousands of individuals to deliver TED talks that will inspire and change lives.\n",
      "\n",
      "To take the first step towards becoming a more effective TED speaker, I encourage you to visit our website, sign up for a free trial of Crux, or simply download the app directly. Don't let the fear of public speaking hold you back. Embrace the power of Crux and unlock your true potential.\n",
      "\n",
      "Thank you for your time, and I'm happy to address any questions you may have. Together, let's make the power of impactful public speaking accessible to all.\n"
     ]
    }
   ],
   "source": [
    "# Test the function\n",
    "\n",
    "if __name__ == '__main__':\n",
    "    \n",
    "    first_prompt = 'You are a professional \"pitch coach\" who helps people improve their presentations skills, I will give you the script of a talk. I would like you to summarize the talk and then suggest ways to improve it. Here is the script: '\n",
    "    second_prompt = 'Can you incorporate your suggestions and create a revised script incorporating the suggestions. The script should be written in the voice of the speaker.'\n",
    "    audience = input('Target audience: ')\n",
    "    length = input('Length in minutes: ')\n",
    "    second_prompt += 'It should be targeted towards a ' + audience + ' audience, and should be no more than '+length+' minutes in length.'\n",
    "    messages = []\n",
    "    script = input('Enter your prompt: ')\n",
    "    prompt = first_prompt+script\n",
    "    response_text, messages = get_pulze_response(prompt, messages)\n",
    "    print(response_text)\n",
    "    response_text, messages = get_pulze_response(second_prompt, messages)\n",
    "    print('\\n\\n Revised script:\\n\\n', response_text)\n",
    "    \n",
    "    "
   ]
  },
  {
   "cell_type": "code",
   "execution_count": null,
   "id": "9ff6deff",
   "metadata": {},
   "outputs": [],
   "source": [
    "!pip install openai"
   ]
  },
  {
   "cell_type": "markdown",
   "id": "e5af248a",
   "metadata": {},
   "source": [
    "Good afternoon, today I want to introduce our new app called crux. Crux helps you become a more effective TED speaker. People struggle with presenting - they don't know how to start, how to create engagement, etc. Think about how you learn music - you record yourself playing and learn from the feedback. Similarly Crux takes a recording of your talk and suggest how to improve not only the content but also pacing, body language, etc "
   ]
  }
 ],
 "metadata": {
  "kernelspec": {
   "display_name": "Python 3 (ipykernel)",
   "language": "python",
   "name": "python3"
  },
  "language_info": {
   "codemirror_mode": {
    "name": "ipython",
    "version": 3
   },
   "file_extension": ".py",
   "mimetype": "text/x-python",
   "name": "python",
   "nbconvert_exporter": "python",
   "pygments_lexer": "ipython3",
   "version": "3.10.9"
  },
  "toc": {
   "base_numbering": 1,
   "nav_menu": {},
   "number_sections": true,
   "sideBar": true,
   "skip_h1_title": false,
   "title_cell": "Table of Contents",
   "title_sidebar": "Contents",
   "toc_cell": false,
   "toc_position": {},
   "toc_section_display": true,
   "toc_window_display": false
  },
  "varInspector": {
   "cols": {
    "lenName": 16,
    "lenType": 16,
    "lenVar": 40
   },
   "kernels_config": {
    "python": {
     "delete_cmd_postfix": "",
     "delete_cmd_prefix": "del ",
     "library": "var_list.py",
     "varRefreshCmd": "print(var_dic_list())"
    },
    "r": {
     "delete_cmd_postfix": ") ",
     "delete_cmd_prefix": "rm(",
     "library": "var_list.r",
     "varRefreshCmd": "cat(var_dic_list()) "
    }
   },
   "types_to_exclude": [
    "module",
    "function",
    "builtin_function_or_method",
    "instance",
    "_Feature"
   ],
   "window_display": false
  }
 },
 "nbformat": 4,
 "nbformat_minor": 5
}
