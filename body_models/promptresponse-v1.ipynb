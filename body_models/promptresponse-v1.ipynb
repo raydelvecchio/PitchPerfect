{
 "cells": [
  {
   "cell_type": "code",
   "execution_count": 30,
   "id": "008b7355",
   "metadata": {
    "code_folding": []
   },
   "outputs": [],
   "source": [
    "\n",
    "pulze_key = 'sk-x5J9jD8zSl24a_xJqmLUEwC6IWbtqKgQB_BF0na3acDdoa2OadPXvNQ2EXlZ8B9-'\n",
    "\n",
    "import requests\n",
    "import openai\n",
    "\n",
    "\n",
    "def get_pulze_response(prompt, messages):\n",
    "    openai.api_key = \"sk-x5J9jD8zSl24a_xJqmLUEwC6IWbtqKgQB_BF0na3acDdoa2OadPXvNQ2EXlZ8B9-\" # supply your key however you choose\n",
    "    openai.api_base = \"https://api.pulze.ai/v1\" # enter Pulze's URL\n",
    "\n",
    "    messages.append({\"role\":\"user\", \"content\": prompt})\n",
    "    \n",
    "    chat_response = openai.ChatCompletion.create(\n",
    "      model=\"pulze-v0\",\n",
    "      max_tokens = 2500,\n",
    "      messages=messages\n",
    "    )\n",
    "    \n",
    "    assistant_message = chat_response.choices[0].message.content\n",
    "    messages.append({\"role\": \"assistant\", \"content\": assistant_message})\n",
    "\n",
    "    return assistant_message, messages"
   ]
  },
  {
   "cell_type": "code",
   "execution_count": 24,
   "id": "93409160",
   "metadata": {},
   "outputs": [],
   "source": []
  },
  {
   "cell_type": "code",
   "execution_count": 32,
   "id": "98e882a3",
   "metadata": {},
   "outputs": [
    {
     "name": "stdout",
     "output_type": "stream",
     "text": [
      "Coach (default: speaker): Steve Jobs\n",
      "Target audience: technology\n",
      "Length in minutes: 5\n",
      "Enter your prompt: Good afternoon, today I want to introduce our new app called crux. Crux helps you become a more effective TED speaker. People struggle with presenting - they don't know how to start, how to create engagement, etc. Think about how you learn music - you record yourself playing and learn from the feedback. Similarly Crux takes a recording of your talk and suggest how to improve not only the content but also pacing, body language, etc \n",
      "\n",
      "\n",
      " Opening Prompt: You are a professional \"pitch coach\" who helps people improve their presentations skills, I will give you the script of a talk. I would like you to summarize the talk and then suggest ways to improve it. Here is the script: Good afternoon, today I want to introduce our new app called crux. Crux helps you become a more effective TED speaker. People struggle with presenting - they don't know how to start, how to create engagement, etc. Think about how you learn music - you record yourself playing and learn from the feedback. Similarly Crux takes a recording of your talk and suggest how to improve not only the content but also pacing, body language, etc \n",
      "\n",
      "Summary: The speaker introduces the new app called Crux that aims to help individuals become more effective TED speakers. They emphasize that people often struggle with various aspects of presenting, such as how to start and create engagement. The speaker then compares the app to learning music, where individuals record themselves playing and learn from feedback. Similarly, Crux records a person's talk and provides suggestions on improving content, pacing, and body language.\n",
      "\n",
      "To improve the talk, here are a few suggestions:\n",
      "\n",
      "1. Begin with a compelling hook: Start the talk with an attention-grabbing statement or a relatable anecdote about the common challenges individuals face when giving presentations. This can immediately engage the audience and make them curious about how the app can address these issues.\n",
      "\n",
      "2. Clearly articulate the app's value proposition: Instead of simply introducing the app as \"Crux,\" explain how it directly benefits users in becoming more effective TED speakers. Highlight the specific pain points it addresses, such as starting a presentation, creating engagement, and even other common presentation struggles.\n",
      "\n",
      "3. Provide concrete examples or testimonials: To make the app more relatable and trustworthy, share examples of real users who have benefited from Crux. Alternatively, use anecdotes or case studies to demonstrate how the app has transformed someone's presentation skills. This will strengthen the credibility and effectiveness of the pitch.\n",
      "\n",
      "4. Expand on the app's unique features: While the script briefly mentions that Crux suggests improvements in content, pacing, and body language, it would be beneficial to provide more details on these unique features. Explain how the app analyzes the recorded talk and offers suggestions to enhance these specific elements. Highlight any advanced technologies such as AI or machine learning that power the app's suggestions.\n",
      "\n",
      "5. Incorporate visual aids: A talk about an app can benefit from visual aids. Consider using a slide or a short video demonstration in the presentation to showcase the app's interface, how it records the talks, and the feedback it provides. This will help the audience better understand the app's functionality and increase their interest.\n",
      "\n",
      "6. Include a call-to-action: End the talk by encouraging the audience to take a specific action. It could be inviting them to visit a website to learn more about Crux, sign up for a trial, or even download the app. Providing a clear next step will generate immediate engagement and interest in the app.\n",
      "\n",
      "By incorporating these suggestions, the speaker can create a more compelling and persuasive pitch that effectively communicates the value and benefits of the Crux app to the audience.\n",
      "\n",
      "\n",
      " Second Prompt: Can you incorporate your suggestions and create a revised script incorporating the suggestions. The script should be written in the voice of Steve Jobs It should be targeted towards a technology audience, and should be no more than 5 minutes in length.\n",
      "\n",
      "\n",
      " Revised script:\n",
      "\n",
      " Ladies and gentlemen,\n",
      "\n",
      "Good afternoon. Today, I stand before you to introduce a groundbreaking app that will revolutionize the way we present and inspire on the TED stage. Allow me to unveil Crux!\n",
      "\n",
      "(Pause for dramatic effect)\n",
      "\n",
      "You know, presenting can be quite the challenge. Many struggle with the daunting task of captivating an audience from the moment they step on stage. We've all been there, uncertain about how to start, how to create that electrifying engagement. It can be paralyzing.\n",
      "\n",
      "But, imagine if we approached presentations the way we learn music. You record yourself playing, listen to the feedback, and refine your skills. That same transformative concept is exactly what Crux brings to the realm of public speaking.\n",
      "\n",
      "(Pause)\n",
      "\n",
      "With Crux, we've developed an app that harnesses the power of technology to elevate your speaking prowess, just like world-class musicians do with their instrument. This isn't just any app—it is the ultimate tool to help you become a more effective TED speaker.\n",
      "\n",
      "Let's bring this to life with a story.\n",
      "\n",
      "Imagine Tom, an ordinary individual like you and me. Tom dreams of inspiring audiences through his TED talks, but he stumbles when it comes to starting strong, engaging his listeners, and delivering a flawless performance. That's where Crux steps in.\n",
      "\n",
      "(Pause)\n",
      "\n",
      "Tom takes the stage, confident that Crux will be his secret weapon. As he speaks, Crux quietly records his performance, analyzing every element and providing invaluable insights into how he can improve. From content and pacing to body language and charisma, Crux is Tom's personal coach, guiding him towards TED greatness.\n",
      "\n",
      "Now, let's dive deeper into the remarkable features that set Crux apart and make it an indispensable companion for TED speakers.\n",
      "\n",
      "First, Crux's intelligent algorithm sifts through the recorded talk, scrutinizing every word and every gesture. It then provides tailor-made suggestions to enhance content, ensuring that your ideas resonate powerfully with your audience.\n",
      "\n",
      "Moreover, Crux analyzes your pacing, detecting where you speed up or slow down. It ensures that you maintain a captivating rhythm throughout your presentation, leaving no room for your audience to lose focus.\n",
      "\n",
      "(Pause)\n",
      "\n",
      "But Crux goes even further—it examines your body language, observing every gesture, every movement, and recommending adjustments that will help you radiate confidence and command the stage with your presence.\n",
      "\n",
      "(Pause)\n",
      "\n",
      "To give you a glimpse into the future of presentation greatness, let us take a brief journey together.\n",
      "\n",
      "(Visual aid: slide or video demonstration)\n",
      "\n",
      "Behold, the seamless interface of the Crux app. Notice how it intelligently records your talk, simultaneously analyzing key aspects of your delivery in real-time. Its intuitive design provides a user-friendly experience, guiding you effortlessly towards becoming the best speaker you can be.\n",
      "\n",
      "(Brief demonstration of how Crux offers suggestions)\n",
      "\n",
      "Imagine the impact it can have on your journey as a TED speaker. Imagine the lives you can touch, the ideas you can spark, the change you can ignite—empowered by Crux.\n",
      "\n",
      "Now, my friends, let's take action. I urge each and every one of you to seize this extraordinary opportunity and join the revolution powered by Crux.\n",
      "\n",
      "Visit our website, cruxspeaks.com, to learn more about this game-changing app. Sign up for a trial and embark on your quest to become the TED speaker you were born to be.\n",
      "\n",
      "Together, let's ensure that our voices resonate, inspire, and shape the future.\n",
      "\n",
      "Thank you.\n",
      "\n",
      "(Exit the stage with confidence and enthusiasm)\n"
     ]
    }
   ],
   "source": [
    "# Test the function\n",
    "\n",
    "if __name__ == '__main__':\n",
    "    \n",
    "    first_prompt = 'You are a professional \"pitch coach\" who helps people improve their presentations skills, I will give you the script of a talk. I would like you to summarize the talk and then suggest ways to improve it. Here is the script: '\n",
    "    coach = input('Coach (default: speaker): ')\n",
    "    if coach == '':\n",
    "        coach = 'the speaker'\n",
    "    second_prompt = 'Can you incorporate your suggestions and create a revised script incorporating the suggestions. The script should be written in the voice of '+coach\n",
    "    audience = input('Target audience: ')\n",
    "    length = input('Length in minutes: ')\n",
    "    second_prompt += ' It should be targeted towards a ' + audience + ' audience, and should be no more than '+length+' minutes in length.'\n",
    "    messages = []\n",
    "    script = input('Enter your prompt: ')\n",
    "    prompt = first_prompt+script\n",
    "    print(f'\\n\\n Opening Prompt: {prompt}')\n",
    "    response_text, messages = get_pulze_response(prompt, messages)\n",
    "    print(f'\\n{response_text}')\n",
    "    print(f'\\n\\n Second Prompt: {second_prompt}')\n",
    "    response_text, messages = get_pulze_response(second_prompt, messages)\n",
    "    print('\\n\\n Revised script:\\n\\n', response_text)\n",
    "    \n",
    "    "
   ]
  },
  {
   "cell_type": "code",
   "execution_count": null,
   "id": "8f179fac",
   "metadata": {},
   "outputs": [],
   "source": [
    "!pip install openai"
   ]
  },
  {
   "cell_type": "markdown",
   "id": "3670ff0c",
   "metadata": {},
   "source": [
    "Good afternoon, today I want to introduce our new app called crux. Crux helps you become a more effective TED speaker. People struggle with presenting - they don't know how to start, how to create engagement, etc. Think about how you learn music - you record yourself playing and learn from the feedback. Similarly Crux takes a recording of your talk and suggest how to improve not only the content but also pacing, body language, etc "
   ]
  }
 ],
 "metadata": {
  "kernelspec": {
   "display_name": "Python 3 (ipykernel)",
   "language": "python",
   "name": "python3"
  },
  "language_info": {
   "codemirror_mode": {
    "name": "ipython",
    "version": 3
   },
   "file_extension": ".py",
   "mimetype": "text/x-python",
   "name": "python",
   "nbconvert_exporter": "python",
   "pygments_lexer": "ipython3",
   "version": "3.10.9"
  },
  "toc": {
   "base_numbering": 1,
   "nav_menu": {},
   "number_sections": true,
   "sideBar": true,
   "skip_h1_title": false,
   "title_cell": "Table of Contents",
   "title_sidebar": "Contents",
   "toc_cell": false,
   "toc_position": {},
   "toc_section_display": true,
   "toc_window_display": false
  },
  "varInspector": {
   "cols": {
    "lenName": 16,
    "lenType": 16,
    "lenVar": 40
   },
   "kernels_config": {
    "python": {
     "delete_cmd_postfix": "",
     "delete_cmd_prefix": "del ",
     "library": "var_list.py",
     "varRefreshCmd": "print(var_dic_list())"
    },
    "r": {
     "delete_cmd_postfix": ") ",
     "delete_cmd_prefix": "rm(",
     "library": "var_list.r",
     "varRefreshCmd": "cat(var_dic_list()) "
    }
   },
   "types_to_exclude": [
    "module",
    "function",
    "builtin_function_or_method",
    "instance",
    "_Feature"
   ],
   "window_display": false
  }
 },
 "nbformat": 4,
 "nbformat_minor": 5
}
