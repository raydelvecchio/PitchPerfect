{
 "cells": [
  {
   "cell_type": "code",
   "execution_count": 14,
   "id": "64598b16",
   "metadata": {},
   "outputs": [],
   "source": [
    "import cv2\n",
    "from sklearn.metrics import accuracy_score # Accuracy metrics \n",
    "import pickle \n",
    "from sklearn.ensemble import RandomForestClassifier, GradientBoostingClassifier\n",
    "import warnings\n",
    "import mediapipe as mp # Import mediapipe\n",
    "import numpy as np\n",
    "import pandas as pd\n",
    "# Suppress specific sklearn warnings\n",
    "warnings.filterwarnings(\"ignore\", category=UserWarning, module=\"sklearn\")\n",
    "mp_holistic = mp.solutions.holistic # Mediapipe Solutions\n"
   ]
  },
  {
   "cell_type": "code",
   "execution_count": 12,
   "id": "715aec19",
   "metadata": {},
   "outputs": [],
   "source": [
    "def feature_detect_setup():\n",
    "\n",
    "    filename = '/Users/kailashambwani/Dropbox/PitchPerfect/body_models/face_model_gb.pkl'\n",
    "    with open(filename, 'rb') as f:\n",
    "        face_model = pickle.load(f)\n",
    "\n",
    "    filename = '/Users/kailashambwani/Dropbox/PitchPerfect/body_models/pose_model_rf.pkl'\n",
    "    with open(filename, 'rb') as f:\n",
    "        pose_model = pickle.load(f)\n",
    "        \n",
    "    return face_model, pose_model\n",
    "\n",
    "def feature_detect(frame, face_model, pose_model):\n",
    "    # Recolor Feed\n",
    "    image = cv2.cvtColor(frame, cv2.COLOR_BGR2RGB)\n",
    "    image.flags.writeable = False        \n",
    "\n",
    "    # Make Detections\n",
    "    with mp_holistic.Holistic(min_detection_confidence=0.5, min_tracking_confidence=0.5) as holistic:\n",
    "\n",
    "        results = holistic.process(image)\n",
    "\n",
    "    try:\n",
    "        # Extract Pose landmarks\n",
    "        pose = results.pose_landmarks.landmark\n",
    "        pose_row = list(np.array([[landmark.x, landmark.y, landmark.z, landmark.visibility] for landmark in pose]).flatten())\n",
    "\n",
    "        # Extract Face landmarks\n",
    "        face = results.face_landmarks.landmark\n",
    "        face_row = list(np.array([[landmark.x, landmark.y, landmark.z, landmark.visibility] for landmark in face]).flatten())\n",
    "\n",
    "#             # Concate rows\n",
    "#             row = pose_row+face_row\n",
    "\n",
    "        # Make face Detections\n",
    "        face_X = pd.DataFrame([face_row])\n",
    "        face_class = face_model.predict(face_X)[0]\n",
    "        face_prob = face_model.predict_proba(face_X)[0]\n",
    "#            print(face_class, face_prob)\n",
    "\n",
    "        # Make pose Detections\n",
    "        pose_X = pd.DataFrame([pose_row])\n",
    "        pose_class = pose_model.predict(pose_X)[0]\n",
    "        pose_prob = pose_model.predict_proba(pose_X)[0]\n",
    "#            print(pose_class, pose_prob)\n",
    "\n",
    "    except:\n",
    "        pass\n",
    "\n",
    "    return face_class, pose_class"
   ]
  },
  {
   "cell_type": "code",
   "execution_count": 21,
   "id": "982a9199",
   "metadata": {},
   "outputs": [],
   "source": [
    "\n",
    "def extract_features_from_video(video_file, face_model, pose_model):\n",
    "    \"\"\"\n",
    "    Extract features from a video using the body_detect function.\n",
    "    \n",
    "    Args:\n",
    "    - video_file (str): Path to the video file.\n",
    "    - body_detect (func): Function to detect features in an image frame.\n",
    "    \n",
    "    Returns:\n",
    "    - List[Tuple[float, Any]]: List of timestamps and their detected features.\n",
    "    \"\"\"\n",
    "    # List to store the results\n",
    "    results = []\n",
    "    curr_features = ('','')\n",
    "    # Open the video\n",
    "    cap = cv2.VideoCapture(video_file)\n",
    "    \n",
    "    # Check if video opened successfully\n",
    "    if not cap.isOpened():\n",
    "        print(\"Error: Couldn't open video.\")\n",
    "        return results\n",
    "    \n",
    "    # Get the frames per second of the video\n",
    "    fps = cap.get(cv2.CAP_PROP_FPS)\n",
    "    \n",
    "    while True:\n",
    "        # Read the next frame from the video\n",
    "        ret, frame = cap.read()\n",
    "        \n",
    "        # Break the loop if video has ended\n",
    "        if not ret:\n",
    "            break\n",
    "        \n",
    "        # Get the current position in the video in seconds\n",
    "        timestamp = cap.get(cv2.CAP_PROP_POS_MSEC) / 1000.0\n",
    "        \n",
    "        # Detect features in the frame\n",
    "        features = feature_detect(frame, face_model, pose_model)\n",
    "        if curr_features != features:\n",
    "            curr_features = features\n",
    "            print(timestamp, features)\n",
    "            # Append the timestamp and features to the results list\n",
    "            results.append((timestamp, features))\n",
    "    \n",
    "    # Release the video capture object\n",
    "    cap.release()\n",
    "    \n",
    "    return results\n",
    "\n",
    "# Example usage:\n",
    "# def body_detect(frame):\n",
    "#     # Your detection code here\n",
    "#     return detected_features\n",
    "\n",
    "# video_file = 'path_to_video.mp4'\n",
    "# features_list = extract_features_from_video(video_file, body_detect)\n",
    "# print(features_list)\n"
   ]
  },
  {
   "cell_type": "code",
   "execution_count": null,
   "id": "db34f27d",
   "metadata": {},
   "outputs": [
    {
     "name": "stdout",
     "output_type": "stream",
     "text": [
      "0.0 ('frown', 'hands pocket')\n",
      "1.8998100000000002 ('smile', 'hands pocket')\n",
      "4.09959 ('smile', 'arms crossed')\n"
     ]
    }
   ],
   "source": [
    "\n",
    "if __name__ == '__main__':\n",
    "\n",
    "# Open the video file\n",
    "    video_file = '/Users/kailashambwani/Dropbox/PitchPerfect/ray_video.mov'\n",
    "# cap = cv2.VideoCapture(video_path)\n",
    "\n",
    "# if not cap.isOpened():\n",
    "#     print(\"Error: Couldn't open video.\")\n",
    "# else:\n",
    "#     while True:\n",
    "#         # Read the next frame from the video\n",
    "#         ret, frame = cap.read()\n",
    "        \n",
    "#         # If ret is False, then we've reached the end of the video\n",
    "#         if not ret:\n",
    "#             break\n",
    "        \n",
    "#         # Now, 'frame' contains the current frame and you can process it if needed\n",
    "#         # For demonstration, let's display the frame\n",
    "#         cv2.imshow(\"Frame\", frame)\n",
    "        \n",
    "#         # Wait for 25ms, and then display the next frame. \n",
    "#         # This will play the video at a normal speed.\n",
    "#         # If you press 'q', it will exit the loop and stop displaying the video.\n",
    "#         if cv2.waitKey(25) & 0xFF == ord('q'):\n",
    "#             break\n",
    "\n",
    "#     # Release the video capture object and close all OpenCV windows\n",
    "#     cap.release()\n",
    "#     cv2.destroyAllWindows()\n",
    "\n",
    "    face_model, pose_model = feature_detect_setup()\n",
    "    results = extract_features_from_video(video_file, face_model, pose_model)\n",
    "    print(results)"
   ]
  },
  {
   "cell_type": "code",
   "execution_count": 16,
   "id": "9e7e7277",
   "metadata": {},
   "outputs": [
    {
     "ename": "NameError",
     "evalue": "name 'results' is not defined",
     "output_type": "error",
     "traceback": [
      "\u001b[0;31m---------------------------------------------------------------------------\u001b[0m",
      "\u001b[0;31mNameError\u001b[0m                                 Traceback (most recent call last)",
      "Cell \u001b[0;32mIn[16], line 1\u001b[0m\n\u001b[0;32m----> 1\u001b[0m \u001b[43mresults\u001b[49m\n",
      "\u001b[0;31mNameError\u001b[0m: name 'results' is not defined"
     ]
    }
   ],
   "source": [
    "results\n"
   ]
  },
  {
   "cell_type": "code",
   "execution_count": null,
   "id": "1b40b2eb",
   "metadata": {},
   "outputs": [],
   "source": []
  }
 ],
 "metadata": {
  "kernelspec": {
   "display_name": "Python 3 (ipykernel)",
   "language": "python",
   "name": "python3"
  },
  "language_info": {
   "codemirror_mode": {
    "name": "ipython",
    "version": 3
   },
   "file_extension": ".py",
   "mimetype": "text/x-python",
   "name": "python",
   "nbconvert_exporter": "python",
   "pygments_lexer": "ipython3",
   "version": "3.10.9"
  },
  "toc": {
   "base_numbering": 1,
   "nav_menu": {},
   "number_sections": true,
   "sideBar": true,
   "skip_h1_title": false,
   "title_cell": "Table of Contents",
   "title_sidebar": "Contents",
   "toc_cell": false,
   "toc_position": {},
   "toc_section_display": true,
   "toc_window_display": false
  },
  "varInspector": {
   "cols": {
    "lenName": 16,
    "lenType": 16,
    "lenVar": 40
   },
   "kernels_config": {
    "python": {
     "delete_cmd_postfix": "",
     "delete_cmd_prefix": "del ",
     "library": "var_list.py",
     "varRefreshCmd": "print(var_dic_list())"
    },
    "r": {
     "delete_cmd_postfix": ") ",
     "delete_cmd_prefix": "rm(",
     "library": "var_list.r",
     "varRefreshCmd": "cat(var_dic_list()) "
    }
   },
   "types_to_exclude": [
    "module",
    "function",
    "builtin_function_or_method",
    "instance",
    "_Feature"
   ],
   "window_display": false
  }
 },
 "nbformat": 4,
 "nbformat_minor": 5
}
